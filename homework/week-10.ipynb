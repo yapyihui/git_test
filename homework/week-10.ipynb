{
  "nbformat": 4,
  "nbformat_minor": 0,
  "metadata": {
    "colab": {
      "provenance": [],
      "include_colab_link": true
    },
    "kernelspec": {
      "name": "python3",
      "display_name": "Python 3"
    },
    "language_info": {
      "name": "python"
    }
  },
  "cells": [
    {
      "cell_type": "markdown",
      "metadata": {
        "id": "view-in-github",
        "colab_type": "text"
      },
      "source": [
        "<a href=\"https://colab.research.google.com/github/yapyihui/git_test/blob/main/homework/week-10.ipynb\" target=\"_parent\"><img src=\"https://colab.research.google.com/assets/colab-badge.svg\" alt=\"Open In Colab\"/></a>"
      ]
    },
    {
      "cell_type": "markdown",
      "source": [
        "# Homework - Week 10\n",
        "\n",
        "Complete the following blocks as specified in the directions. Run each cell to return the desired output. Save your notebook back to your GitHub repository and submit the GitHub URL to your notebook for review."
      ],
      "metadata": {
        "id": "phbaQTT5gy8A"
      }
    },
    {
      "cell_type": "markdown",
      "source": [
        "## Class Basics\n",
        "\n",
        "Closely inspect the class below and answer the questions in the following cells."
      ],
      "metadata": {
        "id": "38Pg39pMrDua"
      }
    },
    {
      "cell_type": "code",
      "source": [
        "\n",
        "class Products:\n",
        "  def __init__(self, id, name, price, description, manufacturer):\n",
        "    self.id = id\n",
        "    self.name = name\n",
        "    self.price = price\n",
        "    self.description = description\n",
        "    self.manufacturer = manufacturer\n",
        "\n",
        "  def print_product(self):\n",
        "    print(f\"Product {self.id} is {self.name} made by {self.manufacturer}. It costs ${self.price}\")"
      ],
      "metadata": {
        "id": "kdFLCHtOg53p"
      },
      "execution_count": 1,
      "outputs": []
    },
    {
      "cell_type": "code",
      "source": [
        "# What are the attributes of this class?\n",
        "# id, name, price, description, manufacturer\n",
        "#is self considered an attribute?"
      ],
      "metadata": {
        "id": "SG85PC5Q0oSi"
      },
      "execution_count": 2,
      "outputs": []
    },
    {
      "cell_type": "code",
      "source": [
        "# In one line of code, create an instance of the class populating its attributes.\n",
        "product1=Products(123, \"ipad\", 100, \"smart tablet\", \"apple\")"
      ],
      "metadata": {
        "id": "ckuUZlUc0q8D"
      },
      "execution_count": 3,
      "outputs": []
    },
    {
      "cell_type": "code",
      "source": [
        "# Referencing the instance you just created, what code is required to print out the name of the instance?\n",
        "print(product1.name)"
      ],
      "metadata": {
        "id": "Ksp2TAiM0u5t",
        "outputId": "5fad2d69-82d4-4876-d551-1e0b61d7cdeb",
        "colab": {
          "base_uri": "https://localhost:8080/"
        }
      },
      "execution_count": 4,
      "outputs": [
        {
          "output_type": "stream",
          "name": "stdout",
          "text": [
            "ipad\n"
          ]
        }
      ]
    },
    {
      "cell_type": "markdown",
      "source": [
        "## Class Methods"
      ],
      "metadata": {
        "id": "0jQs4JYU2Kfh"
      }
    },
    {
      "cell_type": "code",
      "source": [
        "# Using the instance you created above, call the `print_product` method properly in a line of code.\n",
        "product1.print_product()"
      ],
      "metadata": {
        "id": "aO-zWkhd172f",
        "outputId": "d80e0354-5d68-42b8-d333-ca71c4c2c983",
        "colab": {
          "base_uri": "https://localhost:8080/"
        }
      },
      "execution_count": 8,
      "outputs": [
        {
          "output_type": "stream",
          "name": "stdout",
          "text": [
            "Product 123 is ipad made by apple. It costs $100\n"
          ]
        }
      ]
    },
    {
      "cell_type": "code",
      "source": [
        "# Now declare the class again (copy + paste from above). But now add a NEW method that you write.\n",
        "# This method should create a new attribute called \"sales_price\" that is 80% of the normal price.\n",
        "#\n",
        "# Finally, write this method to print out a statement like \"The ________ product is on sale for _____\"\n",
        "# where you fill in the blanks with the name and sales_price of the product.\n",
        "\n",
        "class Products:\n",
        "  def __init__(self, id, name, price, description, manufacturer):\n",
        "    self.id = id\n",
        "    self.name = name\n",
        "    self.price = price\n",
        "    self.description = description\n",
        "    self.manufacturer = manufacturer\n",
        "    self.sales_price = 0.8*price\n",
        "\n",
        "  def print_product(self):\n",
        "    print(f\"Product {self.id} is {self.name} made by {self.manufacturer}. It costs ${self.price}\")\n",
        "\n",
        "  def print_product_sale(self):\n",
        "    print(f\"The {self.name} is on sale for ${self.sales_price}\")"
      ],
      "metadata": {
        "id": "75apcUeJ2VQo"
      },
      "execution_count": 27,
      "outputs": []
    },
    {
      "cell_type": "code",
      "source": [
        "# Execute the class above"
      ],
      "metadata": {
        "id": "TZiNWOl_2-oh",
        "outputId": "e4fa930d-9218-4429-983f-a992299c5f77",
        "colab": {
          "base_uri": "https://localhost:8080/"
        }
      },
      "execution_count": 20,
      "outputs": [
        {
          "output_type": "stream",
          "name": "stdout",
          "text": [
            "The ipad is on sale for $80.0\n"
          ]
        }
      ]
    },
    {
      "cell_type": "code",
      "source": [
        "# Now create an instance of the class with new values.\n",
        "product2=Products(124, \"bphone\", 1000, \"smart phone\", \"banana\")"
      ],
      "metadata": {
        "id": "TT8qK1Ie3EVX"
      },
      "execution_count": 28,
      "outputs": []
    },
    {
      "cell_type": "code",
      "source": [
        "# Finally, using the instance you just created, invoke the new method you wrote. Be sure it prints\n",
        "# the desired text described above.\n",
        "product2.print_product_sale()"
      ],
      "metadata": {
        "id": "mobnFcMw3Icp",
        "outputId": "3b7a3eda-171e-4a12-9af7-db621a9b4fed",
        "colab": {
          "base_uri": "https://localhost:8080/"
        }
      },
      "execution_count": 32,
      "outputs": [
        {
          "output_type": "stream",
          "name": "stdout",
          "text": [
            "The bphone is on sale for $800.0\n"
          ]
        }
      ]
    }
  ]
}
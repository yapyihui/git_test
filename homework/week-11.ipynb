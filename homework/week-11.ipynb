{
  "nbformat": 4,
  "nbformat_minor": 0,
  "metadata": {
    "colab": {
      "provenance": [],
      "include_colab_link": true
    },
    "kernelspec": {
      "name": "python3",
      "display_name": "Python 3"
    },
    "language_info": {
      "name": "python"
    }
  },
  "cells": [
    {
      "cell_type": "markdown",
      "metadata": {
        "id": "view-in-github",
        "colab_type": "text"
      },
      "source": [
        "<a href=\"https://colab.research.google.com/github/yapyihui/git_test/blob/main/homework/week-11.ipynb\" target=\"_parent\"><img src=\"https://colab.research.google.com/assets/colab-badge.svg\" alt=\"Open In Colab\"/></a>"
      ]
    },
    {
      "cell_type": "markdown",
      "source": [
        "# Homework - Error Handling & Recursion\n",
        "\n",
        "Complete the cells below. Pay close attention to all directions given.\n",
        "\n",
        "## Error Handling (3 pts)\n",
        "\n",
        "```\n",
        "def throw_me_an_error():\n",
        "  val1 = 14\n",
        "  val2 = 0\n",
        "  return val1 / val2\n",
        "\n",
        "throw_me_an_error()\n",
        "```\n",
        "\n",
        "The function above is designed to deliberately throw an error.\n",
        "\n",
        "Create a new version of the function but add `try` and `except` statements correctly. Your exception should print out the type of error this function created. There are a couple of different ways you could do this.\n"
      ],
      "metadata": {
        "id": "v14Xtd9oiTGF"
      }
    },
    {
      "cell_type": "code",
      "execution_count": 7,
      "metadata": {
        "id": "-dfq0Vo_iSi7"
      },
      "outputs": [],
      "source": [
        "# answer goes here.\n",
        "def throw_me_an_error():\n",
        "  val1 = 14\n",
        "  val2 = 0\n",
        "  try:\n",
        "    return val1 / val2\n",
        "  except Exception as e:\n",
        "    print(type(e),\"  with message: \", e)\n",
        "# why does it not print out????"
      ]
    },
    {
      "cell_type": "markdown",
      "source": [
        "## Error Handling (4 pts)\n",
        "\n",
        "Extend the class below to include some error handling. Assume the remote resource is offline for a moment: How would you give a message to the user indicating what has gone wrong? (Hint: one way you can test this is by deliberately misspelling the URL for the remote resource.)\n",
        "\n",
        "Also, include error handling logic so that execution of the class method `guid()` always returns a line \"Your request has been completed\" along with the guid it created.\n",
        "\n",
        "```\n",
        "import requests\n",
        "import json\n",
        "import sys\n",
        "\n",
        "class Id:\n",
        "\n",
        "  def guid():\n",
        "    response = requests.get('https://ids.pods.uvarc.io/guid')\n",
        "    body = json.loads(response.text)\n",
        "    return body['id']\n",
        "\n",
        "Id.guid()\n",
        "```"
      ],
      "metadata": {
        "id": "gf9m78RWmWqC"
      }
    },
    {
      "cell_type": "code",
      "source": [
        "# answer goes here\n",
        "import requests\n",
        "import json\n",
        "import sys\n",
        "\n",
        "class Id:\n",
        "\n",
        "  def guid():\n",
        "    response = requests.get('https://ids.pods.uvarc.io/guid')\n",
        "    body = json.loads(response.text)\n",
        "    try:\n",
        "      return body['id']\n",
        "    except Exception as e:\n",
        "      print(type(e),\"  with message: \", e)\n",
        "Id.guid()\n",
        "\n",
        "#what is going on hahaha"
      ],
      "metadata": {
        "id": "hT5B-LokmUbU",
        "outputId": "a135c9bc-93a1-46ca-d706-fa2eab5c30c6",
        "colab": {
          "base_uri": "https://localhost:8080/",
          "height": 35
        }
      },
      "execution_count": 1,
      "outputs": [
        {
          "output_type": "execute_result",
          "data": {
            "text/plain": [
              "'edd3f741-f232-4596-b47f-43a519a11536'"
            ],
            "application/vnd.google.colaboratory.intrinsic+json": {
              "type": "string"
            }
          },
          "metadata": {},
          "execution_count": 1
        }
      ]
    },
    {
      "cell_type": "markdown",
      "source": [
        "## Recursive Functions (3 pts)\n",
        "\n",
        "In the cell below, explain line by line the logic of what is being calculated when the function is called with an input value of 2.\n",
        "\n",
        "```\n",
        "def squarer(n):\n",
        "  if n == 1:\n",
        "    return 2\n",
        "  else:\n",
        "    return squarer(n-1) ** 2 + n\n",
        "\n",
        "squarer(2)\n",
        "```"
      ],
      "metadata": {
        "id": "XCuNofSFomZ6"
      }
    },
    {
      "cell_type": "code",
      "source": [
        "# answer goes here. Add space as needed.\n",
        "# Line 1. define a function with 1 parameter, n\n",
        "# Line 2. if the value of n is 1, return 2.\n",
        "          #if not, move on to the else statement\n",
        "#Line 3. n does not equal to 1 so we move on to the else statement\n",
        "#Line 4. we call squarer(n-1) which is 1. this makes the value of n\n",
        "        #become 1, so it returns 2 from the if statement.\n",
        "#Line 5. we call the recursive function"
      ],
      "metadata": {
        "id": "oYiqS2cxxXm4"
      },
      "execution_count": null,
      "outputs": []
    }
  ]
}